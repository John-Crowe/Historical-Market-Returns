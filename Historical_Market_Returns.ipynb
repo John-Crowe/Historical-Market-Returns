{
 "cells": [
  {
   "cell_type": "markdown",
   "id": "0",
   "metadata": {},
   "source": [
    "# Historical Market Returns\n",
    "\n",
    "For this project, we are replicating the excess market return outlined on the French Fama website in the below URL:\n",
    "\n",
    "https://mba.tuck.dartmouth.edu/pages/faculty/ken.french/data_library.html\n",
    "\n",
    "This is a value-weighted portfolio calculating the total excess US market return from July 1926 to January 2024 (subject to available data). Stocks are analyzed on a monthly basis. The risk free rate is imported from the French Fama website. We filter our stocks to only use the 10 and 11 sharecodes and the 1, 2 and 3 exchanges, per the French Fama website.\n",
    "\n",
    "I used the below libraries for this project."
   ]
  },
  {
   "cell_type": "code",
   "execution_count": 2,
   "id": "1",
   "metadata": {},
   "outputs": [],
   "source": [
    "import wrds\n",
    "import pandas as pd\n",
    "from pandas.tseries.offsets import MonthEnd\n",
    "import pandas_datareader\n",
    "import datetime\n",
    "import numpy as np"
   ]
  },
  {
   "cell_type": "markdown",
   "id": "8c067708",
   "metadata": {},
   "source": [
    "Below is our code for connecting to our CRSP data using the WRDS library. We are downloading monthly stock data and monthly delisted stock data for all available stocks that meet the French Fama requirements."
   ]
  },
  {
   "cell_type": "code",
   "execution_count": 3,
   "id": "3",
   "metadata": {},
   "outputs": [
    {
     "name": "stdout",
     "output_type": "stream",
     "text": [
      "Enter your WRDS username [John]:johncrowe\n",
      "Enter your password:········\n",
      "WRDS recommends setting up a .pgpass file.\n",
      "Create .pgpass file now [y/n]?: y\n",
      "Created .pgpass file successfully.\n",
      "You can create this file yourself at any time with the create_pgpass_file() function.\n",
      "Loading library list...\n",
      "Done\n"
     ]
    }
   ],
   "source": [
    "id = 'johncrowe'\n",
    "conn = wrds.Connection(id)\n",
    "\n",
    "# Download monthly crsp stock data\n",
    "a = conn.raw_sql(\"\"\"\n",
    "                    select a.permno, a.permco, a.date, b.shrcd, b.exchcd,\n",
    "                    a.ret, a.retx, a.shrout, a.prc, a.cfacshr, a.cfacpr\n",
    "                    from crspq.msf as a \n",
    "                    left join crsp.msenames as b\n",
    "                    on a.permno=b.permno\n",
    "                    and b.namedt<=a.date\n",
    "                    and a.date<=b.nameendt\n",
    "                    where a.date between '01/01/1900' and '12/31/2023'\n",
    "                    \"\"\")\n",
    "\n",
    "# Download monthly crsp delisted stock data\n",
    "b = conn.raw_sql(\"\"\"\n",
    "                    select permno, dlret, dlstdt, dlstcd\n",
    "                    from crspq.msedelist\n",
    "                    \"\"\")\n",
    "\n",
    "c = conn.get_table(library='ff', table='factors_monthly')\n",
    "\n",
    "conn.close()"
   ]
  },
  {
   "cell_type": "markdown",
   "id": "70a1a719",
   "metadata": {},
   "source": [
    "Below we create new dataframes so that we do not have to reconnect to the SQL servers to rerun our code."
   ]
  },
  {
   "cell_type": "code",
   "execution_count": 4,
   "id": "664ed751",
   "metadata": {},
   "outputs": [],
   "source": [
    "crsp_raw = a.copy()\n",
    "dlret_raw = b.copy()\n",
    "french = c.copy()"
   ]
  },
  {
   "cell_type": "markdown",
   "id": "4b1fc3aa",
   "metadata": {},
   "source": [
    "Below we are importing the monthly risk free rate."
   ]
  },
  {
   "cell_type": "code",
   "execution_count": 5,
   "id": "10468672",
   "metadata": {},
   "outputs": [],
   "source": [
    "# Here is an alternative way using wrds package (FF3 factors only...)\n",
    "french = french[['date','mktrf','smb','hml','rf']]\n",
    "french['mkt'] = french['mktrf'] + french['rf']\n",
    "french['date'] = pd.to_datetime(french['date']) + MonthEnd(0)\n",
    "\n",
    "# Change columns to floats\n",
    "french['mktrf'] = french['mktrf'].astype(float)\n",
    "french['smb'] = french['smb'].astype(float)\n",
    "french['hml'] = french['hml'].astype(float)\n",
    "french['rf'] = french['rf'].astype(float)\n",
    "\n",
    "# Create year and month columns for french data\n",
    "french['year'] = french['date'].dt.year\n",
    "french['month'] = french['date'].dt.month"
   ]
  },
  {
   "cell_type": "markdown",
   "id": "ef654d0e",
   "metadata": {},
   "source": [
    "Here we use some data cleaning and rearraning. First we arrange by date and permno, then we manipulate the date portion so that we can ensure they are in the proper order and then merge delisted with crsp to create our total return column, which we will call 'ret'. We then attach the lagged market return and end up with a row in our dataframe for each stock-year-month."
   ]
  },
  {
   "cell_type": "code",
   "execution_count": 6,
   "id": "4",
   "metadata": {},
   "outputs": [],
   "source": [
    "# Clean crsp_raw data\n",
    "crsp_raw = crsp_raw.sort_values(['permno','date']).reset_index(drop=True).copy()\n",
    "crsp_raw[['permno', 'permco']] = crsp_raw[['permno', 'permco']].astype(int)\n",
    "crsp_raw['date'] = pd.to_datetime(crsp_raw['date'], format='%y-%m-%d') + MonthEnd(0)\n",
    "crsp_raw['prc'] = np.absolute(crsp_raw['prc'])\n",
    "\n",
    "# Clean dlret_raw data\n",
    "dlret_raw = dlret_raw.sort_values(['permno', 'dlstdt']).reset_index(drop=True).copy()\n",
    "dlret_raw.permno = dlret_raw.permno.astype(int)\n",
    "dlret_raw['dlstdt'] = pd.to_datetime(dlret_raw['dlstdt'])\n",
    "dlret_raw['date'] = dlret_raw['dlstdt'] + MonthEnd(0)\n",
    "\n",
    "# Merge crsp_raw with dlret_raw\n",
    "stocks = crsp_raw.merge(dlret_raw[['permno','date','dlret']], how='outer', on=['permno','date'])\n",
    "stocks['dlret'] = stocks['dlret'].fillna(0)\n",
    "stocks['shrcd'] = stocks['shrcd'].ffill()\n",
    "stocks['exchcd'] = stocks['exchcd'].ffill()\n",
    "stocks['ret'] = stocks['ret'].fillna(0)\n",
    "stocks['prc'] = stocks['prc'].fillna(0)\n",
    "stocks['shrout'] = stocks['shrout'].fillna(0)\n",
    "stocks['me'] = stocks['prc']*stocks['shrout']\n",
    "\n",
    "# Redefine 'ret' to include delisted return\n",
    "stocks['ret'] = (1 + stocks['ret']) * (1 + stocks['dlret']) - 1\n",
    "\n",
    "# Attach Lagged Market Equity (to be used as weights) for each stock-year-month\n",
    "stocks = stocks.sort_values(by=['permno','date']).reset_index().drop('index',axis=1).copy()\n",
    "stocks['daten'] = stocks['date'].dt.year*12 + stocks['date'].dt.month\n",
    "stocks['IsValidLag'] = stocks['daten'].diff(1) == 1 # Lag date has to be the lagged date\n",
    "stocks.loc[stocks[stocks['permno'].diff(1) != 0].index,['IsValidLag']] = False # Lagged date has to be the same security\n",
    "stocks['lme'] = stocks[['permno','me']].groupby('permno').shift(1)\n",
    "stocks.loc[stocks[stocks['IsValidLag'] == False].index,['lme']] = np.nan\n",
    "stocks = stocks.drop(['IsValidLag','daten'], axis=1)\n",
    "\n",
    "# Filter for 'shrcd' = 10 or 11 and 'exchcd' = 1, 2 or 3 per the Fama French website\n",
    "stocks = stocks[((stocks['shrcd'] == 10) | (stocks['shrcd'] == 11)) & ((stocks['exchcd'] == 1) | (stocks['exchcd'] == 2) | (stocks['exchcd'] == 3))].copy()\n",
    "\n",
    "# Create year and month columns for readability\n",
    "stocks['year'] = stocks['date'].dt.year\n",
    "stocks['month'] = stocks['date'].dt.month\n",
    "\n",
    "# Rearrange columns into desired format\n",
    "stocks = stocks[['permno', 'year', 'month', 'prc', 'shrout', 'lme', 'ret']]\n",
    "\n",
    "# Drop NAs so that columns without lagged market equity value are not included\n",
    "stocks = stocks.dropna()"
   ]
  },
  {
   "cell_type": "markdown",
   "id": "a2bc3932",
   "metadata": {},
   "source": [
    "Now we have our stocks in the desired stock-year-month with lagged market price and returns. We can now filter through all available times and find the total market return for each month. The resulting dataframe will be in year-month format."
   ]
  },
  {
   "cell_type": "code",
   "execution_count": 7,
   "id": "5a5c450f-631b-4064-b062-eebf392c4805",
   "metadata": {},
   "outputs": [],
   "source": [
    "# Create our lists for year-month dataframe\n",
    "years = []\n",
    "months = []\n",
    "value_monthly_returns = []\n",
    "equal_monthly_returns = []\n",
    "lagged_market_values = []\n",
    "    \n",
    "# Find all unique year-month combinations present in both stocks and french\n",
    "french_date = french[['year', 'month']].drop_duplicates().sort_values(by=['year', 'month'])\n",
    "stock_date = stocks[['year', 'month']].drop_duplicates().sort_values(by=['year', 'month'])\n",
    "date = french_date.merge(stock_date, how='inner', on=['year', 'month'])\n",
    "\n",
    "# Iterate over the DataFrame and print year and month\n",
    "for index, row in date.iterrows():\n",
    "    # Find monthly returns\n",
    "    year = row['year']\n",
    "    month = row['month']\n",
    "    this_stocks = stocks[(stocks['year'] == year) & (stocks['month'] == month)]\n",
    "    rf = french[(french['year'] == year) & (french['month'] == month)]['rf'].iloc[0]\n",
    "    start_value = this_stocks['lme'].sum()\n",
    "    end_value = (this_stocks['lme']*(1 + this_stocks['ret'])).sum()\n",
    "    value_monthly_return = (end_value - start_value)/start_value - rf\n",
    "    equal_monthly_return = this_stocks['ret'].mean() - rf\n",
    "    \n",
    "    # Append results\n",
    "    years.append(year)\n",
    "    months.append(month)\n",
    "    value_monthly_returns.append(value_monthly_return)\n",
    "    equal_monthly_returns.append(equal_monthly_return)\n",
    "    lagged_market_values.append(start_value)\n",
    "\n",
    "data = {'year': years,\n",
    "        'month': months,\n",
    "        'MktRF-VW': value_monthly_returns,\n",
    "        'MktRF-EW' : equal_monthly_returns,\n",
    "        'Lagged Mkt Value': lagged_market_values}\n",
    "\n",
    "monthly_returns = pd.DataFrame(data)"
   ]
  },
  {
   "cell_type": "markdown",
   "id": "13",
   "metadata": {},
   "source": [
    "Using the risk-free rate of return from French’s website, we will report the market excess returns for French time series and out replicated time series comparing the following factors: annualized return, annualized volatility, annualized Sharpe ratio, skewness, and excess kurtosis. We are using market data from July 1926 to January 2024."
   ]
  },
  {
   "cell_type": "code",
   "execution_count": 8,
   "id": "7017cd0e-46bf-4b79-a5fa-145d71ccad37",
   "metadata": {},
   "outputs": [
    {
     "data": {
      "text/html": [
       "<style type=\"text/css\">\n",
       "</style>\n",
       "<table id=\"T_f491a\">\n",
       "  <thead>\n",
       "    <tr>\n",
       "      <th id=\"T_f491a_level0_col0\" class=\"col_heading level0 col0\" >Variable Name</th>\n",
       "      <th id=\"T_f491a_level0_col1\" class=\"col_heading level0 col1\" >Fama</th>\n",
       "      <th id=\"T_f491a_level0_col2\" class=\"col_heading level0 col2\" >Replication</th>\n",
       "    </tr>\n",
       "  </thead>\n",
       "  <tbody>\n",
       "    <tr>\n",
       "      <td id=\"T_f491a_row0_col0\" class=\"data row0 col0\" >Mean</td>\n",
       "      <td id=\"T_f491a_row0_col1\" class=\"data row0 col1\" >8.14</td>\n",
       "      <td id=\"T_f491a_row0_col2\" class=\"data row0 col2\" >8.13</td>\n",
       "    </tr>\n",
       "    <tr>\n",
       "      <td id=\"T_f491a_row1_col0\" class=\"data row1 col0\" >Volatility</td>\n",
       "      <td id=\"T_f491a_row1_col1\" class=\"data row1 col1\" >18.51</td>\n",
       "      <td id=\"T_f491a_row1_col2\" class=\"data row1 col2\" >18.47</td>\n",
       "    </tr>\n",
       "    <tr>\n",
       "      <td id=\"T_f491a_row2_col0\" class=\"data row2 col0\" >Sharpe Ratio</td>\n",
       "      <td id=\"T_f491a_row2_col1\" class=\"data row2 col1\" >0.44</td>\n",
       "      <td id=\"T_f491a_row2_col2\" class=\"data row2 col2\" >0.44</td>\n",
       "    </tr>\n",
       "    <tr>\n",
       "      <td id=\"T_f491a_row3_col0\" class=\"data row3 col0\" >Skewness</td>\n",
       "      <td id=\"T_f491a_row3_col1\" class=\"data row3 col1\" >0.16</td>\n",
       "      <td id=\"T_f491a_row3_col2\" class=\"data row3 col2\" >0.17</td>\n",
       "    </tr>\n",
       "    <tr>\n",
       "      <td id=\"T_f491a_row4_col0\" class=\"data row4 col0\" >Kurtosis</td>\n",
       "      <td id=\"T_f491a_row4_col1\" class=\"data row4 col1\" >7.42</td>\n",
       "      <td id=\"T_f491a_row4_col2\" class=\"data row4 col2\" >7.38</td>\n",
       "    </tr>\n",
       "  </tbody>\n",
       "</table>\n"
      ],
      "text/plain": [
       "<pandas.io.formats.style.Styler at 0x20717cd0250>"
      ]
     },
     "execution_count": 8,
     "metadata": {},
     "output_type": "execute_result"
    }
   ],
   "source": [
    "# Merge French Fama and replication so that we use the same timeframe\n",
    "both = monthly_returns.merge(french, how = 'inner', on = ['year', 'month'])\n",
    "\n",
    "# Calculate French Fama metrics\n",
    "french_mean = 1200*both['mktrf'].mean()  \n",
    "french_std = 100*np.sqrt(12)*both['mktrf'].std() \n",
    "french_SR = french_mean/french_std\n",
    "french_skew = both['mktrf'].skew()\n",
    "french_kurtosis = both['mktrf'].kurtosis()\n",
    "\n",
    "# Calculate replicated metrics\n",
    "replicated_mean = 1200*both['MktRF-VW'].mean()  # Calculate the mean of the 'MktRF' column\n",
    "replicated_std = 100*np.sqrt(12)*both['MktRF-VW'].std() \n",
    "replicated_SR = replicated_mean/replicated_std\n",
    "replicated_skew = both['MktRF-VW'].skew()\n",
    "replicated_kurtosis = both['MktRF-VW'].kurtosis()\n",
    "\n",
    "# Convert floats to strings for formatting\n",
    "french_mean, french_std, french_SR, french_skew, french_kurtosis = '{:.2f}'.format(french_mean), '{:.2f}'.format(french_std), '{:.2f}'.format(french_SR), '{:.2f}'.format(french_skew), '{:.2f}'.format(french_kurtosis)\n",
    "replicated_mean, replicated_std, replicated_SR, replicated_skew, replicated_kurtosis = '{:.2f}'.format(replicated_mean), '{:.2f}'.format(replicated_std), '{:.2f}'.format(replicated_SR), '{:.2f}'.format(replicated_skew), '{:.2f}'.format(replicated_kurtosis)\n",
    "\n",
    "# Create final dataframe and output results\n",
    "output1 = pd.DataFrame({'Variable Name': ['Mean', 'Volatility', 'Sharpe Ratio', 'Skewness', 'Kurtosis'], \n",
    "                        'Fama': [french_mean, french_std, french_SR, french_skew, french_kurtosis],\n",
    "                        'Replication': [replicated_mean, replicated_std, replicated_SR, replicated_skew, replicated_kurtosis]})\n",
    "\n",
    "output1.style.hide()"
   ]
  },
  {
   "cell_type": "markdown",
   "id": "4f1d24f4-9b15-4a67-8cca-68c84093f62a",
   "metadata": {},
   "source": [
    "Now I can calculate the correlation between my replicated time series and French Fama’s time series as well as the maximum absolute difference between the two time series. \n",
    "\n",
    "As you can see below, the correlation between the two sets is very close to one. This makes sense since we attempted to replicate the French Fama market returns and expect a high correlation. The absolute max value difference is very small, and we can consider any difference between these two sets to be economically negligible. The difference is not zero, however, because French and Fama likely used certain methods not addressed on their website."
   ]
  },
  {
   "cell_type": "code",
   "execution_count": 9,
   "id": "bac560e2-669c-48bf-b98a-faca683f9219",
   "metadata": {},
   "outputs": [
    {
     "data": {
      "text/html": [
       "<style type=\"text/css\">\n",
       "</style>\n",
       "<table id=\"T_e457d\">\n",
       "  <thead>\n",
       "    <tr>\n",
       "      <th id=\"T_e457d_level0_col0\" class=\"col_heading level0 col0\" >Variable Name</th>\n",
       "      <th id=\"T_e457d_level0_col1\" class=\"col_heading level0 col1\" >Value</th>\n",
       "    </tr>\n",
       "  </thead>\n",
       "  <tbody>\n",
       "    <tr>\n",
       "      <td id=\"T_e457d_row0_col0\" class=\"data row0 col0\" >Correlation</td>\n",
       "      <td id=\"T_e457d_row0_col1\" class=\"data row0 col1\" >0.9998</td>\n",
       "    </tr>\n",
       "    <tr>\n",
       "      <td id=\"T_e457d_row1_col0\" class=\"data row1 col0\" >Max Absolute Value Difference</td>\n",
       "      <td id=\"T_e457d_row1_col1\" class=\"data row1 col1\" >0.0350</td>\n",
       "    </tr>\n",
       "  </tbody>\n",
       "</table>\n"
      ],
      "text/plain": [
       "<pandas.io.formats.style.Styler at 0x2071e7d7590>"
      ]
     },
     "execution_count": 9,
     "metadata": {},
     "output_type": "execute_result"
    }
   ],
   "source": [
    "# Find max difference and correlation between French Fama and replicated time series\n",
    "max_absolute_diff = (both['MktRF-VW'] - both['mktrf']).abs().max()\n",
    "correlation = both['MktRF-VW'].corr(both['mktrf'])\n",
    "\n",
    "# Convert floats to strings for formatting\n",
    "max_absolute_diff, correlation = '{:.4f}'.format(max_absolute_diff), '{:.4f}'.format(correlation)\n",
    "\n",
    "#Create final dataframe and output results\n",
    "output2 = pd.DataFrame({'Variable Name': ['Correlation', 'Max Absolute Value Difference'], \n",
    "                        'Value': [correlation, max_absolute_diff]})\n",
    "\n",
    "output2.style.hide()"
   ]
  }
 ],
 "metadata": {
  "kernelspec": {
   "display_name": "Python 3 (ipykernel)",
   "language": "python",
   "name": "python3"
  },
  "language_info": {
   "codemirror_mode": {
    "name": "ipython",
    "version": 3
   },
   "file_extension": ".py",
   "mimetype": "text/x-python",
   "name": "python",
   "nbconvert_exporter": "python",
   "pygments_lexer": "ipython3",
   "version": "3.11.4"
  }
 },
 "nbformat": 4,
 "nbformat_minor": 5
}
